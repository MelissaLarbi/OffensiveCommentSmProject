{
  "nbformat": 4,
  "nbformat_minor": 0,
  "metadata": {
    "colab": {
      "provenance": []
    },
    "language_info": {
      "codemirror_mode": {
        "name": "ipython",
        "version": 3
      },
      "file_extension": ".py",
      "mimetype": "text/x-python",
      "name": "python",
      "nbconvert_exporter": "python",
      "pygments_lexer": "ipython3",
      "version": "3.6.5"
    },
    "kernelspec": {
      "display_name": "Python 3",
      "language": "python",
      "name": "python3"
    }
  },
  "cells": [
    {
      "cell_type": "markdown",
      "source": [
        "# Install pyspark"
      ],
      "metadata": {
        "id": "H70WNPTuwpKt"
      }
    },
    {
      "cell_type": "code",
      "source": [
        "!pip install pyspark --quiet"
      ],
      "metadata": {
        "id": "fqj6Y-2wwa2G"
      },
      "execution_count": 19,
      "outputs": []
    },
    {
      "cell_type": "code",
      "source": [
        "!pip install spark-nlp --quiet"
      ],
      "metadata": {
        "id": "Qii_5vbr_QVC"
      },
      "execution_count": 20,
      "outputs": []
    },
    {
      "cell_type": "markdown",
      "source": [
        "# Les import "
      ],
      "metadata": {
        "id": "s4j03TPB1v_U"
      }
    },
    {
      "cell_type": "code",
      "source": [
        "import spacy \n",
        "from pyspark.sql import SparkSession\n",
        "#import pyspark.sql.functions as F\n",
        "#import pyspark.sql.types as T\n",
        "from pyspark.sql.functions import col, explode\n",
        "from pyspark.ml.feature import CountVectorizer\n",
        "import sparknlp\n",
        "from pyspark.sql.types import IntegerType\n",
        "from pyspark.sql.functions import isnull, isnan,count,when,trim\n",
        "import pandas as pd\n",
        "import matplotlib.pyplot as plt\n"
      ],
      "metadata": {
        "id": "Kut8ob9B1t33"
      },
      "execution_count": 47,
      "outputs": []
    },
    {
      "cell_type": "code",
      "source": [
        "#sprk_nlp = sparknlp.start()\n",
        "spark = SparkSession.builder.master(\"local[*]\").getOrCreate()\n",
        "sc = spark.sparkContext\n",
        "sc"
      ],
      "metadata": {
        "id": "SJC9Pazbwa9a",
        "colab": {
          "base_uri": "https://localhost:8080/",
          "height": 199
        },
        "outputId": "5a8af09f-8461-4ab4-ab56-451ca0f224df"
      },
      "execution_count": 48,
      "outputs": [
        {
          "output_type": "execute_result",
          "data": {
            "text/plain": [
              "<SparkContext master=local[*] appName=pyspark-shell>"
            ],
            "text/html": [
              "\n",
              "        <div>\n",
              "            <p><b>SparkContext</b></p>\n",
              "\n",
              "            <p><a href=\"http://1237c0d437be:4040\">Spark UI</a></p>\n",
              "\n",
              "            <dl>\n",
              "              <dt>Version</dt>\n",
              "                <dd><code>v3.3.2</code></dd>\n",
              "              <dt>Master</dt>\n",
              "                <dd><code>local[*]</code></dd>\n",
              "              <dt>AppName</dt>\n",
              "                <dd><code>pyspark-shell</code></dd>\n",
              "            </dl>\n",
              "        </div>\n",
              "        "
            ]
          },
          "metadata": {},
          "execution_count": 48
        }
      ]
    },
    {
      "cell_type": "code",
      "source": [
        "# Montage drive (optionnel)\n",
        "#from google.colab import drive\n",
        "#drive.mount('/My_drive/')"
      ],
      "metadata": {
        "id": "geKQHrGlwgOw"
      },
      "execution_count": 49,
      "outputs": []
    },
    {
      "cell_type": "code",
      "source": [
        "!ls "
      ],
      "metadata": {
        "id": "3qCaLVY51E4C",
        "outputId": "ef0e342a-3f1f-4183-d882-966de1297819",
        "colab": {
          "base_uri": "https://localhost:8080/"
        }
      },
      "execution_count": 50,
      "outputs": [
        {
          "output_type": "stream",
          "name": "stdout",
          "text": [
            "offensive_comment_small.csv  sample_data\n"
          ]
        }
      ]
    },
    {
      "cell_type": "markdown",
      "source": [
        "#Load Data "
      ],
      "metadata": {
        "id": "Ik27LT-42GA4"
      }
    },
    {
      "cell_type": "code",
      "source": [
        "!ls"
      ],
      "metadata": {
        "colab": {
          "base_uri": "https://localhost:8080/"
        },
        "id": "-C7iKwtEkwrA",
        "outputId": "644c313a-e4ce-4ad2-bd0c-b049770c734c"
      },
      "execution_count": 51,
      "outputs": [
        {
          "output_type": "stream",
          "name": "stdout",
          "text": [
            "offensive_comment_small.csv  sample_data\n"
          ]
        }
      ]
    },
    {
      "cell_type": "code",
      "metadata": {
        "scrolled": false,
        "id": "pm39wyON2QwV"
      },
      "source": [
        "#Charger un csv (modifier le path)\n",
        "#path=\"/My_drive/My Drive/Cours prof Big data/2022 GIS5/Projet/offensive_comment_small.csv\"\n",
        "#df = spark.read.csv(path,header=True, sep=\";\")\n",
        "\n",
        "data = spark.read.csv(\"./offensive_comment_small.csv\",header=True, sep=\";\")"
      ],
      "execution_count": 52,
      "outputs": []
    },
    {
      "cell_type": "markdown",
      "source": [
        "# Data Exploration"
      ],
      "metadata": {
        "id": "RRgRbBjw2jam"
      }
    },
    {
      "cell_type": "code",
      "source": [
        "print((data.count(), len(data.columns)))\n",
        "data.show()"
      ],
      "metadata": {
        "colab": {
          "base_uri": "https://localhost:8080/"
        },
        "id": "bJWw-HAy2PZq",
        "outputId": "f6d997fb-3e83-43d3-d5e8-e5752a3aa64d"
      },
      "execution_count": 53,
      "outputs": [
        {
          "output_type": "stream",
          "name": "stdout",
          "text": [
            "(10000, 8)\n",
            "+------------+--------------------+-----+------------+-------+------+------+-------------+\n",
            "|          id|        comment_text|toxic|severe_toxic|obscene|threat|insult|identity_hate|\n",
            "+------------+--------------------+-----+------------+-------+------+------+-------------+\n",
            "| 86236166566|How can Ceha use ...|    0|           0|      0|     0|     0|            0|\n",
            "| 67516955649|Blah... Childlove...|    0|           0|      0|     0|     0|            0|\n",
            "| 22144619496|WTH DUDE Deleting...|    0|           0|      0|     0|     1|            0|\n",
            "| 10428262239|\"'\"\"I''ve added a...|    0|           0|      0|     0|     0|            0|\n",
            "| 82779776033|Violation Your re...|    0|           0|      0|     0|     0|            0|\n",
            "| 72769334443|take care  16:55,...|    0|           0|      0|     0|     0|            0|\n",
            "| 80250530594|'The second examp...|    0|           0|      0|     0|     0|            0|\n",
            "| 40748094103|\"'\"\" Bye I''m not...|    1|           0|      1|     0|     1|            0|\n",
            "|  9834124974|Would have been n...|    0|           0|      0|     0|     0|            0|\n",
            "| 96797040416|\"'\"\"Thanks. I jus...|    0|           0|      0|     0|     0|            0|\n",
            "|   764135765|'friendly notice ...|    0|           0|      0|     0|     0|            0|\n",
            "| 37568719168|\"'\"\"Well, Billy r...|    0|           0|      0|     0|     0|            0|\n",
            "| 64717794985|'If that is the c...|    0|           0|      0|     0|     0|            0|\n",
            "| 85063449824|hey wat up get ba...|    0|           0|      0|     0|     0|            0|\n",
            "| 31729695911|If you read the a...|    0|           0|      0|     0|     0|            0|\n",
            "|    82428052|Fried chickens Is...|    0|           0|      0|     0|     0|            0|\n",
            "| 37277783752|'Erik, for crying...|    1|           0|      0|     0|     0|            0|\n",
            "| 41986743642|I remember your a...|    0|           0|      0|     0|     0|            0|\n",
            "| 29352765853|\"'\"\": Lets put it...|    0|           0|      0|     0|     0|            0|\n",
            "|134911921361|'i like to fuck s...|    1|           0|      1|     0|     0|            0|\n",
            "+------------+--------------------+-----+------------+-------+------+------+-------------+\n",
            "only showing top 20 rows\n",
            "\n"
          ]
        }
      ]
    },
    {
      "cell_type": "code",
      "source": [
        "data.printSchema()"
      ],
      "metadata": {
        "colab": {
          "base_uri": "https://localhost:8080/"
        },
        "id": "I5TJjp8uDFdZ",
        "outputId": "e787e280-0f9a-45d2-ac55-32f62dbfa097"
      },
      "execution_count": 54,
      "outputs": [
        {
          "output_type": "stream",
          "name": "stdout",
          "text": [
            "root\n",
            " |-- id: string (nullable = true)\n",
            " |-- comment_text: string (nullable = true)\n",
            " |-- toxic: string (nullable = true)\n",
            " |-- severe_toxic: string (nullable = true)\n",
            " |-- obscene: string (nullable = true)\n",
            " |-- threat: string (nullable = true)\n",
            " |-- insult: string (nullable = true)\n",
            " |-- identity_hate: string (nullable = true)\n",
            "\n"
          ]
        }
      ]
    },
    {
      "cell_type": "markdown",
      "source": [
        "On voit que le dataset contient 10000 commentaires caractérisés par 6 features. Toutes les données de notre dataset sont du type String. "
      ],
      "metadata": {
        "id": "MKzeAjSh-cD-"
      }
    },
    {
      "cell_type": "markdown",
      "source": [
        "### Types Convertion "
      ],
      "metadata": {
        "id": "Jw-FUjqnZerO"
      }
    },
    {
      "cell_type": "code",
      "source": [
        "for column in data.columns[2:]: \n",
        "  data = data.withColumn(column, col(column).cast(\"integer\")) "
      ],
      "metadata": {
        "id": "EhJe5RKhFCHv"
      },
      "execution_count": 55,
      "outputs": []
    },
    {
      "cell_type": "code",
      "source": [
        "data.printSchema()"
      ],
      "metadata": {
        "colab": {
          "base_uri": "https://localhost:8080/"
        },
        "id": "ucGhFQ2xFI6m",
        "outputId": "bd8c59a9-2b29-467f-b88f-cbba08b10a39"
      },
      "execution_count": 56,
      "outputs": [
        {
          "output_type": "stream",
          "name": "stdout",
          "text": [
            "root\n",
            " |-- id: string (nullable = true)\n",
            " |-- comment_text: string (nullable = true)\n",
            " |-- toxic: integer (nullable = true)\n",
            " |-- severe_toxic: integer (nullable = true)\n",
            " |-- obscene: integer (nullable = true)\n",
            " |-- threat: integer (nullable = true)\n",
            " |-- insult: integer (nullable = true)\n",
            " |-- identity_hate: integer (nullable = true)\n",
            "\n"
          ]
        }
      ]
    },
    {
      "cell_type": "code",
      "source": [
        "data.select(data.columns[2:]).describe().show()"
      ],
      "metadata": {
        "colab": {
          "base_uri": "https://localhost:8080/"
        },
        "id": "aKJ9tGjnHFQp",
        "outputId": "a02e35b7-d518-4a32-ea76-eda6dea8ee1a"
      },
      "execution_count": 57,
      "outputs": [
        {
          "output_type": "stream",
          "name": "stdout",
          "text": [
            "+-------+-------------------+-------------------+-------------------+--------------------+-------------------+--------------------+\n",
            "|summary|              toxic|       severe_toxic|            obscene|              threat|             insult|       identity_hate|\n",
            "+-------+-------------------+-------------------+-------------------+--------------------+-------------------+--------------------+\n",
            "|  count|               9998|               9998|               9998|                9998|               9998|                9998|\n",
            "|   mean|0.20004000800160032|0.01860372074414883|0.10342068413682737|0.007401480296059212|0.09691938387677536|0.016203240648129627|\n",
            "| stddev| 0.4000500098772665|0.13512752727977903|0.30452277664683985| 0.08571717025072571|0.29586275895080216| 0.12626278227790177|\n",
            "|    min|                  0|                  0|                  0|                   0|                  0|                   0|\n",
            "|    max|                  1|                  1|                  1|                   1|                  1|                   1|\n",
            "+-------+-------------------+-------------------+-------------------+--------------------+-------------------+--------------------+\n",
            "\n"
          ]
        }
      ]
    },
    {
      "cell_type": "markdown",
      "source": [
        "### A-t-on des valeurs manquantes ? "
      ],
      "metadata": {
        "id": "tUmSyQyeHiP_"
      }
    },
    {
      "cell_type": "code",
      "source": [
        "data.select([count(when((col(c) == '' ) | \\\n",
        "                         col(c).isNull() | \\\n",
        "                          isnan(c), c \n",
        "                           )).alias(c)\n",
        "                    for c in data.columns]).show()"
      ],
      "metadata": {
        "colab": {
          "base_uri": "https://localhost:8080/"
        },
        "id": "YGJXVoWDKWLZ",
        "outputId": "3450c3b9-08d9-4734-eaed-41c76ffe058b"
      },
      "execution_count": 58,
      "outputs": [
        {
          "output_type": "stream",
          "name": "stdout",
          "text": [
            "+---+------------+-----+------------+-------+------+------+-------------+\n",
            "| id|comment_text|toxic|severe_toxic|obscene|threat|insult|identity_hate|\n",
            "+---+------------+-----+------------+-------+------+------+-------------+\n",
            "|  0|           0|    2|           2|      2|     2|     2|            2|\n",
            "+---+------------+-----+------------+-------+------+------+-------------+\n",
            "\n"
          ]
        }
      ]
    },
    {
      "cell_type": "markdown",
      "source": [
        "  On voit qu'on a 2 valeurs manquantes pour les colonnes : toxic, severe_toxic, obscene, threat, insult, identity_hate. \n",
        "  Pour la colonne comment_text on voit qu'on n'a pas de commentaires vide. "
      ],
      "metadata": {
        "id": "-MlVbj4TJ6Je"
      }
    },
    {
      "cell_type": "markdown",
      "source": [
        "## Traitement des valeurs manquantes"
      ],
      "metadata": {
        "id": "8O2dmXiUfpvN"
      }
    },
    {
      "cell_type": "code",
      "source": [
        "# Drop rows with null values: vu qu'on en n'a pas beaucoup \n",
        "data = data.dropna()\n",
        "print((data.count(), len(data.columns)))"
      ],
      "metadata": {
        "colab": {
          "base_uri": "https://localhost:8080/"
        },
        "id": "JFrpcLmbfpA7",
        "outputId": "90cb2ffc-ad32-401f-f53c-d6c534993703"
      },
      "execution_count": null,
      "outputs": [
        {
          "output_type": "stream",
          "name": "stdout",
          "text": [
            "(9998, 8)\n"
          ]
        }
      ]
    },
    {
      "cell_type": "markdown",
      "source": [
        "## La colonne toxic"
      ],
      "metadata": {
        "id": "WEZlu9CVBOKG"
      }
    },
    {
      "cell_type": "code",
      "source": [
        "data.groupBy(\"toxic\").count().toPandas().plot(kind='bar', x='toxic', y='count')"
      ],
      "metadata": {
        "id": "0k35MGWW-n8q",
        "colab": {
          "base_uri": "https://localhost:8080/",
          "height": 294
        },
        "outputId": "767f351f-1bce-4ad9-8c5e-e64ecbcb1ba2"
      },
      "execution_count": null,
      "outputs": [
        {
          "output_type": "execute_result",
          "data": {
            "text/plain": [
              "<AxesSubplot:xlabel='toxic'>"
            ]
          },
          "metadata": {},
          "execution_count": 69
        },
        {
          "output_type": "display_data",
          "data": {
            "text/plain": [
              "<Figure size 432x288 with 1 Axes>"
            ],
            "image/png": "[encoded data removed]"
          },
          "metadata": {
            "needs_background": "light"
          }
        }
      ]
    },
    {
      "cell_type": "markdown",
      "source": [
        "On voit que la variable toxic est une variable binaires. On voit également que la majorité des commentairs ne sont pas toxic. "
      ],
      "metadata": {
        "id": "NTY_lFiukwR_"
      }
    },
    {
      "cell_type": "markdown",
      "source": [
        "### La colonne severe_toxic\n",
        "\n",
        "\n",
        "\n"
      ],
      "metadata": {
        "id": "R3NSzdcHlLSF"
      }
    },
    {
      "cell_type": "code",
      "source": [
        "data.groupBy(\"severe_toxic\").count().toPandas().plot(kind='bar', x='severe_toxic', y='count')"
      ],
      "metadata": {
        "colab": {
          "base_uri": "https://localhost:8080/",
          "height": 295
        },
        "id": "RFx-kdzQlkmG",
        "outputId": "7362520d-d527-4d4e-9db9-4d4004bdce9f"
      },
      "execution_count": null,
      "outputs": [
        {
          "output_type": "execute_result",
          "data": {
            "text/plain": [
              "<AxesSubplot:xlabel='severe_toxic'>"
            ]
          },
          "metadata": {},
          "execution_count": 72
        },
        {
          "output_type": "display_data",
          "data": {
            "text/plain": [
              "<Figure size 432x288 with 1 Axes>"
            ],
            "image/png": "[encoded data removed]"
          },
          "metadata": {
            "needs_background": "light"
          }
        }
      ]
    },
    {
      "cell_type": "markdown",
      "source": [
        "On voit que la colonne severe_toxic est aussi une variable binaire, où on a aussi la plus part des commentaires qui ne sont pas des serve_toxic. "
      ],
      "metadata": {
        "id": "Ai1YCpDXnZ-a"
      }
    },
    {
      "cell_type": "markdown",
      "source": [
        "# Y-t-il une relation entre toxic et severe_toxic ? "
      ],
      "metadata": {
        "id": "LeQvl-zRn-Kn"
      }
    },
    {
      "cell_type": "code",
      "source": [
        "data.groupBy(\"severe_toxic\", \"toxic\").count().show() # toPandas().plot(kind='bar', x='severe_toxic', y='count')"
      ],
      "metadata": {
        "colab": {
          "base_uri": "https://localhost:8080/"
        },
        "id": "7i6TX5UuoSM6",
        "outputId": "14fa0ae8-3fa4-43d4-f955-a8db7f715483"
      },
      "execution_count": null,
      "outputs": [
        {
          "output_type": "stream",
          "name": "stdout",
          "text": [
            "+------------+-----+-----+\n",
            "|severe_toxic|toxic|count|\n",
            "+------------+-----+-----+\n",
            "|           1|    1|  186|\n",
            "|           0|    0| 7998|\n",
            "|           0|    1| 1814|\n",
            "+------------+-----+-----+\n",
            "\n"
          ]
        }
      ]
    },
    {
      "cell_type": "markdown",
      "source": [
        "## La colonne obscene "
      ],
      "metadata": {
        "id": "mcEieb7do4BQ"
      }
    },
    {
      "cell_type": "code",
      "source": [
        "data.groupBy(\"obscene\").count().toPandas().plot(kind='bar', x='obscene', y='count')"
      ],
      "metadata": {
        "colab": {
          "base_uri": "https://localhost:8080/",
          "height": 294
        },
        "id": "bRgR45fopPOO",
        "outputId": "7effd1dc-0876-4ffa-f4dc-f7b671e99c83"
      },
      "execution_count": null,
      "outputs": [
        {
          "output_type": "execute_result",
          "data": {
            "text/plain": [
              "<AxesSubplot:xlabel='obscene'>"
            ]
          },
          "metadata": {},
          "execution_count": 75
        },
        {
          "output_type": "display_data",
          "data": {
            "text/plain": [
              "<Figure size 432x288 with 1 Axes>"
            ],
            "image/png": "[encoded data removed]"
          },
          "metadata": {
            "needs_background": "light"
          }
        }
      ]
    },
    {
      "cell_type": "markdown",
      "source": [
        "Le nombre de commentaires non obscene est plus grand que le nombre de commentaires obscene.\n",
        "\n"
      ],
      "metadata": {
        "id": "EBSyTE4ApXOx"
      }
    },
    {
      "cell_type": "markdown",
      "source": [
        "### La colonne threat "
      ],
      "metadata": {
        "id": "9uYkE5vipmG0"
      }
    },
    {
      "cell_type": "code",
      "source": [
        "data.groupBy(\"threat\").count().toPandas().plot(kind='bar', x='threat', y='count')"
      ],
      "metadata": {
        "colab": {
          "base_uri": "https://localhost:8080/",
          "height": 294
        },
        "id": "KTygaY6Cp7c_",
        "outputId": "dd2a6f6c-131c-42e6-add9-e7a83d74441f"
      },
      "execution_count": null,
      "outputs": [
        {
          "output_type": "execute_result",
          "data": {
            "text/plain": [
              "<AxesSubplot:xlabel='threat'>"
            ]
          },
          "metadata": {},
          "execution_count": 78
        },
        {
          "output_type": "display_data",
          "data": {
            "text/plain": [
              "<Figure size 432x288 with 1 Axes>"
            ],
            "image/png": "[encoded data removed]"
          },
          "metadata": {
            "needs_background": "light"
          }
        }
      ]
    },
    {
      "cell_type": "markdown",
      "source": [
        "La plut part des commentaires sont non threat dans notre dataset."
      ],
      "metadata": {
        "id": "zyOeluc2qMEB"
      }
    },
    {
      "cell_type": "markdown",
      "source": [
        "### La colonne insult\n"
      ],
      "metadata": {
        "id": "Gb_d0p44qYuB"
      }
    },
    {
      "cell_type": "code",
      "source": [
        "data.groupBy(\"insult\").count().toPandas().plot(kind='bar', x='insult', y='count')"
      ],
      "metadata": {
        "colab": {
          "base_uri": "https://localhost:8080/",
          "height": 294
        },
        "id": "GbmZxplRqeAV",
        "outputId": "dba1f8e8-9887-4e4d-ce73-41e86142f6e2"
      },
      "execution_count": null,
      "outputs": [
        {
          "output_type": "execute_result",
          "data": {
            "text/plain": [
              "<AxesSubplot:xlabel='insult'>"
            ]
          },
          "metadata": {},
          "execution_count": 79
        },
        {
          "output_type": "display_data",
          "data": {
            "text/plain": [
              "<Figure size 432x288 with 1 Axes>"
            ],
            "image/png": "[encoded data removed]"
          },
          "metadata": {
            "needs_background": "light"
          }
        }
      ]
    },
    {
      "cell_type": "markdown",
      "source": [
        "La plut part des commentaires sont non insult dans notre dataset."
      ],
      "metadata": {
        "id": "MI7DD7z8qlQ1"
      }
    },
    {
      "cell_type": "markdown",
      "source": [
        "### La colonne identity_hate"
      ],
      "metadata": {
        "id": "iUm-vwCXqr56"
      }
    },
    {
      "cell_type": "code",
      "source": [
        "data.groupBy(\"identity_hate\").count().toPandas().plot(kind='bar', x='identity_hate', y='count')"
      ],
      "metadata": {
        "colab": {
          "base_uri": "https://localhost:8080/",
          "height": 295
        },
        "id": "l60UhBStqozG",
        "outputId": "dff0248f-2ed3-4af2-ce25-0b421b9e7606"
      },
      "execution_count": null,
      "outputs": [
        {
          "output_type": "execute_result",
          "data": {
            "text/plain": [
              "<AxesSubplot:xlabel='identity_hate'>"
            ]
          },
          "metadata": {},
          "execution_count": 80
        },
        {
          "output_type": "display_data",
          "data": {
            "text/plain": [
              "<Figure size 432x288 with 1 Axes>"
            ],
            "image/png": "[encoded data removed]"
          },
          "metadata": {
            "needs_background": "light"
          }
        }
      ]
    },
    {
      "cell_type": "markdown",
      "source": [
        "La plut part des commentaires sont non identity_hate dans notre dataset."
      ],
      "metadata": {
        "id": "NAZMxzMHq6P5"
      }
    },
    {
      "cell_type": "markdown",
      "source": [
        "### La colonne comment_text"
      ],
      "metadata": {
        "id": "Dz7Kz_d4faJJ"
      }
    },
    {
      "cell_type": "code",
      "source": [
        "data.filter(isnull(trim(col(\"comment_text\")))).show() # pas de commentaire vide"
      ],
      "metadata": {
        "colab": {
          "base_uri": "https://localhost:8080/"
        },
        "id": "aPHZriIJfa6K",
        "outputId": "00f949a8-edbf-49fc-f802-7954634284ce"
      },
      "execution_count": 29,
      "outputs": [
        {
          "output_type": "stream",
          "name": "stdout",
          "text": [
            "+---+------------+-----+------------+-------+------+------+-------------+\n",
            "| id|comment_text|toxic|severe_toxic|obscene|threat|insult|identity_hate|\n",
            "+---+------------+-----+------------+-------+------+------+-------------+\n",
            "+---+------------+-----+------------+-------+------+------+-------------+\n",
            "\n"
          ]
        }
      ]
    },
    {
      "cell_type": "markdown",
      "source": [
        "On voit qu'on a pas des commentaires vides. "
      ],
      "metadata": {
        "id": "V78qzmbasv30"
      }
    }
  ]
}